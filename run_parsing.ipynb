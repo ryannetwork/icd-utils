{
 "cells": [
  {
   "cell_type": "markdown",
   "metadata": {},
   "source": [
    "### Data Parsing Pipeline"
   ]
  },
  {
   "cell_type": "code",
   "execution_count": 1,
   "metadata": {},
   "outputs": [],
   "source": [
    "import time\n",
    "import json as json\n",
    "import collections\n",
    "\n",
    "'''import parsing from icd-utils'''\n",
    "from icd_utils.parsing import *"
   ]
  },
  {
   "cell_type": "markdown",
   "metadata": {},
   "source": [
    "#### Parse a single Tree\n",
    "\n",
    "FUnction to parse a single tree."
   ]
  },
  {
   "cell_type": "code",
   "execution_count": 2,
   "metadata": {},
   "outputs": [],
   "source": [
    "def parse_a_tree(file):\n",
    "    data = []\n",
    "    t1 = time.time()\n",
    "    \n",
    "    with open(file,\"r\")as ff:\n",
    "        for line in ff:\n",
    "            \n",
    "            '''upload the data: a single line is a python dictionary'''\n",
    "            raw_data = json.loads(line)\n",
    "            \n",
    "            \n",
    "            '''create a defult dictionary'''\n",
    "            node = collections.defaultdict(lambda : 'Key Not found') \n",
    "            for key,value in raw_data.items():\n",
    "                node[key] = value\n",
    "                \n",
    "                \n",
    "            '''implement parsing here'''    \n",
    "            P = parsing(node)\n",
    "            P.get_node_doc()\n",
    "            node_dict = P.node_dict\n",
    "            data.append(node_dict)\n",
    "            \n",
    "            \n",
    "    t2 = time.time()\n",
    "    print(file.split(\"/\")[-1],\\\n",
    "          \"Parsing completed with toal time:\", (t2-t1))\n",
    "    return data"
   ]
  },
  {
   "cell_type": "markdown",
   "metadata": {},
   "source": [
    "-----------------"
   ]
  },
  {
   "cell_type": "markdown",
   "metadata": {},
   "source": [
    "- Supply the data to be parsed"
   ]
  },
  {
   "cell_type": "code",
   "execution_count": 3,
   "metadata": {},
   "outputs": [
    {
     "name": "stdout",
     "output_type": "stream",
     "text": [
      "274880002.json Parsing completed with toal time: 0.0022263526916503906\n"
     ]
    }
   ],
   "source": [
    "sample_data = parse_a_tree(\"../download/data/274880002.json\")"
   ]
  },
  {
   "cell_type": "code",
   "execution_count": 4,
   "metadata": {},
   "outputs": [
    {
     "data": {
      "text/plain": [
       "{'childs': ['1038292737',\n",
       "  '2024456840',\n",
       "  '877557231',\n",
       "  '1359329403',\n",
       "  '49589409',\n",
       "  '151357345'],\n",
       " 'defn': 'Key Not found',\n",
       " 'id': '274880002',\n",
       " 'parents': ['1038292737',\n",
       "  '2024456840',\n",
       "  '877557231',\n",
       "  '1359329403',\n",
       "  '49589409',\n",
       "  '151357345'],\n",
       " 'syns': 'Key Not found',\n",
       " 'title': 'Sleep-wake disorders'}"
      ]
     },
     "execution_count": 4,
     "metadata": {},
     "output_type": "execute_result"
    }
   ],
   "source": [
    "sample_data[0]"
   ]
  },
  {
   "cell_type": "markdown",
   "metadata": {},
   "source": [
    "---------"
   ]
  },
  {
   "cell_type": "markdown",
   "metadata": {},
   "source": [
    "#### Parse Multiple Tree"
   ]
  },
  {
   "cell_type": "markdown",
   "metadata": {},
   "source": [
    "- Find the list of fileswithin the data directory"
   ]
  },
  {
   "cell_type": "code",
   "execution_count": 5,
   "metadata": {},
   "outputs": [],
   "source": [
    "import glob\n",
    "path = \"../download/data/*.json\"\n",
    "files = glob.glob(path)"
   ]
  },
  {
   "cell_type": "markdown",
   "metadata": {},
   "source": [
    "- Run Parsing for each of the files"
   ]
  },
  {
   "cell_type": "code",
   "execution_count": 10,
   "metadata": {},
   "outputs": [
    {
     "name": "stdout",
     "output_type": "stream",
     "text": [
      "850137482.json running...\n",
      "850137482.json Parsing completed with toal time: 0.07169008255004883\n",
      "223744320.json running...\n",
      "223744320.json Parsing completed with toal time: 0.07925271987915039\n",
      "1843895818.json running...\n",
      "1843895818.json Parsing completed with toal time: 0.05308222770690918\n",
      "1473673350.json running...\n",
      "1473673350.json Parsing completed with toal time: 0.07552003860473633\n",
      "21500692.json running...\n",
      "979408586.json running...\n",
      "274880002.json running...\n",
      "274880002.json Parsing completed with toal time: 0.001758575439453125\n",
      "1630407678.json running...\n",
      "1630407678.json Parsing completed with toal time: 0.05433511734008789\n",
      "334423054.json running...\n",
      "334423054.json Parsing completed with toal time: 0.041634559631347656\n",
      "30659757.json running...\n",
      "30659757.json Parsing completed with toal time: 0.06830024719238281\n",
      "426429380.json running...\n",
      "426429380.json Parsing completed with toal time: 0.05976057052612305\n",
      "1639304259.json running...\n",
      "1639304259.json Parsing completed with toal time: 0.0840752124786377\n",
      "1256772020.json running...\n",
      "1256772020.json Parsing completed with toal time: 0.09636569023132324\n",
      "1766440644.json running...\n",
      "1766440644.json Parsing completed with toal time: 0.024367809295654297\n",
      "1296093776.json running...\n",
      "1218729044.json running...\n",
      "1218729044.json Parsing completed with toal time: 0.010709285736083984\n",
      "718687701.json running...\n",
      "718687701.json Parsing completed with toal time: 0.00846409797668457\n",
      "1435254666.json running...\n",
      "1435254666.json Parsing completed with toal time: 0.07538294792175293\n",
      "577470983.json running...\n",
      "577470983.json Parsing completed with toal time: 0.013826370239257812\n",
      "1801349023.json running...\n",
      "1801349023.json Parsing completed with toal time: 0.08833742141723633\n",
      "714000734.json running...\n",
      "714000734.json Parsing completed with toal time: 0.01753973960876465\n",
      "197934298.json running...\n",
      "197934298.json Parsing completed with toal time: 0.03408551216125488\n",
      "1596590595.json running...\n",
      "1596590595.json Parsing completed with toal time: 0.0005805492401123047\n",
      "435227771.json running...\n",
      "435227771.json Parsing completed with toal time: 0.07666230201721191\n",
      "1249056269.json running...\n",
      "1249056269.json Parsing completed with toal time: 0.02720808982849121\n",
      "231358748.json running...\n",
      "231358748.json Parsing completed with toal time: 0.002611398696899414\n",
      "868865918.json running...\n",
      "868865918.json Parsing completed with toal time: 0.07285714149475098\n",
      "1954798891.json running...\n",
      "1954798891.json Parsing completed with toal time: 0.03581857681274414\n",
      "1306203631.json running...\n",
      "1306203631.json Parsing completed with toal time: 0.01928567886352539\n"
     ]
    }
   ],
   "source": [
    "DATA = []\n",
    "for f in files:\n",
    "    \n",
    "    '''find the foundation ID'''\n",
    "    ff = f.split(\"/\")[-1]\n",
    "    \n",
    "    print(ff,\"running...\")\n",
    "    \n",
    "    '''escape some broken files'''\n",
    "    if ff not in [\"21500692.json\",\"979408586.json\",\"1296093776.json\"]:\n",
    "        \n",
    "        data = parse_a_tree(\"../download/data/\"+ ff)\n",
    "        \n",
    "        with open(\"itree/\"+ff, 'w')as fw:\n",
    "            json.dump(data,fw)\n",
    "            \n",
    "        for item in data:\n",
    "            DATA.append(item)"
   ]
  },
  {
   "cell_type": "code",
   "execution_count": 11,
   "metadata": {},
   "outputs": [],
   "source": [
    "with open (\"data/DATA.json\", 'w') as ff:\n",
    "    json.dump(DATA, ff)"
   ]
  },
  {
   "cell_type": "code",
   "execution_count": 12,
   "metadata": {},
   "outputs": [
    {
     "data": {
      "text/plain": [
       "57381"
      ]
     },
     "execution_count": 12,
     "metadata": {},
     "output_type": "execute_result"
    }
   ],
   "source": [
    "len(DATA)"
   ]
  },
  {
   "cell_type": "code",
   "execution_count": null,
   "metadata": {},
   "outputs": [],
   "source": []
  },
  {
   "cell_type": "code",
   "execution_count": null,
   "metadata": {},
   "outputs": [],
   "source": []
  },
  {
   "cell_type": "code",
   "execution_count": null,
   "metadata": {},
   "outputs": [],
   "source": []
  },
  {
   "cell_type": "code",
   "execution_count": null,
   "metadata": {},
   "outputs": [],
   "source": []
  },
  {
   "cell_type": "code",
   "execution_count": null,
   "metadata": {},
   "outputs": [],
   "source": []
  },
  {
   "cell_type": "code",
   "execution_count": null,
   "metadata": {},
   "outputs": [],
   "source": []
  },
  {
   "cell_type": "code",
   "execution_count": null,
   "metadata": {},
   "outputs": [],
   "source": []
  },
  {
   "cell_type": "code",
   "execution_count": null,
   "metadata": {},
   "outputs": [],
   "source": []
  },
  {
   "cell_type": "code",
   "execution_count": null,
   "metadata": {},
   "outputs": [],
   "source": []
  },
  {
   "cell_type": "code",
   "execution_count": null,
   "metadata": {},
   "outputs": [],
   "source": []
  },
  {
   "cell_type": "code",
   "execution_count": null,
   "metadata": {},
   "outputs": [],
   "source": []
  },
  {
   "cell_type": "code",
   "execution_count": null,
   "metadata": {},
   "outputs": [],
   "source": []
  },
  {
   "cell_type": "code",
   "execution_count": null,
   "metadata": {},
   "outputs": [],
   "source": []
  }
 ],
 "metadata": {
  "kernelspec": {
   "display_name": "Python 3",
   "language": "python",
   "name": "python3"
  },
  "language_info": {
   "codemirror_mode": {
    "name": "ipython",
    "version": 3
   },
   "file_extension": ".py",
   "mimetype": "text/x-python",
   "name": "python",
   "nbconvert_exporter": "python",
   "pygments_lexer": "ipython3",
   "version": "3.6.4"
  }
 },
 "nbformat": 4,
 "nbformat_minor": 2
}
